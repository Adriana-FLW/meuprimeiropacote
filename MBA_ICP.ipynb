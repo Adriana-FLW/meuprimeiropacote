{
  "nbformat": 4,
  "nbformat_minor": 0,
  "metadata": {
    "colab": {
      "name": "MBA_ICP.ipynb",
      "provenance": [],
      "toc_visible": true,
      "authorship_tag": "ABX9TyPrHT0b+yLx/HqEWiATsEb7",
      "include_colab_link": true
    },
    "kernelspec": {
      "name": "python3",
      "display_name": "Python 3"
    },
    "language_info": {
      "name": "python"
    }
  },
  "cells": [
    {
      "cell_type": "markdown",
      "metadata": {
        "id": "view-in-github",
        "colab_type": "text"
      },
      "source": [
        "<a href=\"https://colab.research.google.com/github/Adriana-FLW/meuprimeiropacote/blob/master/MBA_ICP.ipynb\" target=\"_parent\"><img src=\"https://colab.research.google.com/assets/colab-badge.svg\" alt=\"Open In Colab\"/></a>"
      ]
    },
    {
      "cell_type": "markdown",
      "source": [
        "**AULA 1 - TIPOS DE VARIÁVEIS**"
      ],
      "metadata": {
        "id": "wVrQZE3xHAIs"
      }
    },
    {
      "cell_type": "code",
      "execution_count": null,
      "metadata": {
        "colab": {
          "base_uri": "https://localhost:8080/"
        },
        "id": "msug_GN0GBkp",
        "outputId": "30b3d340-abf0-48b8-952a-bf8bf882ac56"
      },
      "outputs": [
        {
          "output_type": "stream",
          "name": "stdout",
          "text": [
            "Hello World\n"
          ]
        }
      ],
      "source": [
        "print('Hello World')"
      ]
    },
    {
      "cell_type": "markdown",
      "source": [
        "*VARIAVEIS*"
      ],
      "metadata": {
        "id": "VU4-ChXeHRWs"
      }
    },
    {
      "cell_type": "code",
      "source": [
        "x = 2.6\n",
        "y = 3.4\n",
        "z = x + y\n",
        "print(z)"
      ],
      "metadata": {
        "colab": {
          "base_uri": "https://localhost:8080/"
        },
        "id": "_ZVt2CF5Gm7s",
        "outputId": "f9779552-2b17-4930-c4cd-76004848671e"
      },
      "execution_count": null,
      "outputs": [
        {
          "output_type": "stream",
          "name": "stdout",
          "text": [
            "6.0\n"
          ]
        }
      ]
    },
    {
      "cell_type": "markdown",
      "source": [
        "*NUMEROS*"
      ],
      "metadata": {
        "id": "YGsNJAOVHsX4"
      }
    },
    {
      "cell_type": "code",
      "source": [
        "print(3*x)\n",
        "print(x**3)\n",
        "print(x/2)\n",
        "print(x//2) # Divisao inteira\n",
        "print(x%2)"
      ],
      "metadata": {
        "colab": {
          "base_uri": "https://localhost:8080/"
        },
        "id": "R_D_XoR3H1up",
        "outputId": "52de5572-5fdd-47b3-d16f-ade98e07d4ca"
      },
      "execution_count": null,
      "outputs": [
        {
          "output_type": "stream",
          "name": "stdout",
          "text": [
            "7.800000000000001\n",
            "17.576\n",
            "1.3\n",
            "1.0\n",
            "0.6000000000000001\n"
          ]
        }
      ]
    },
    {
      "cell_type": "code",
      "source": [
        "x = x + 2.5\n",
        "print(x)"
      ],
      "metadata": {
        "colab": {
          "base_uri": "https://localhost:8080/"
        },
        "id": "wgrfXDmVITf6",
        "outputId": "36cd3aa7-d4f3-45db-a809-7b8ccdc64745"
      },
      "execution_count": null,
      "outputs": [
        {
          "output_type": "stream",
          "name": "stdout",
          "text": [
            "5.1\n"
          ]
        }
      ]
    },
    {
      "cell_type": "markdown",
      "source": [
        "*ENTRADA DE DADOS*"
      ],
      "metadata": {
        "id": "yPZXzdmeIg0j"
      }
    },
    {
      "cell_type": "code",
      "source": [
        "inp = input()\n",
        "print('Saida',inp)"
      ],
      "metadata": {
        "colab": {
          "base_uri": "https://localhost:8080/"
        },
        "id": "8lvKiUldIqJ-",
        "outputId": "b2887439-b779-43e7-9ec3-a0dd2ff23897"
      },
      "execution_count": null,
      "outputs": [
        {
          "output_type": "stream",
          "name": "stdout",
          "text": [
            "Adriana\n",
            "Saida Adriana\n"
          ]
        }
      ]
    },
    {
      "cell_type": "code",
      "source": [
        "A = 'Dri'\n",
        "B = 'Vai'\n",
        "AB = A + B\n",
        "print(A + ' ' + B)"
      ],
      "metadata": {
        "colab": {
          "base_uri": "https://localhost:8080/"
        },
        "id": "a5A4V-IhJWnG",
        "outputId": "848368a9-a392-420a-8fb5-d9ff6cf77caf"
      },
      "execution_count": null,
      "outputs": [
        {
          "output_type": "stream",
          "name": "stdout",
          "text": [
            "Dri Vai\n"
          ]
        }
      ]
    },
    {
      "cell_type": "code",
      "source": [
        "A = input()\n",
        "B = input()\n",
        "print(A,B)"
      ],
      "metadata": {
        "colab": {
          "base_uri": "https://localhost:8080/"
        },
        "id": "84WgKbEuJ__-",
        "outputId": "e06c5f77-f502-4ec5-8728-3f682c2ce905"
      },
      "execution_count": null,
      "outputs": [
        {
          "output_type": "stream",
          "name": "stdout",
          "text": [
            "eu\n",
            "oi\n",
            "eu oi\n"
          ]
        }
      ]
    },
    {
      "cell_type": "markdown",
      "source": [
        "*TIPOS DE VARIÁVEIS*"
      ],
      "metadata": {
        "id": "IvLG38zVKOJT"
      }
    },
    {
      "cell_type": "code",
      "source": [
        "# String\n",
        "a = '123'\n",
        "b = '456'\n",
        "c = '789'\n",
        "print(a+b+c)"
      ],
      "metadata": {
        "colab": {
          "base_uri": "https://localhost:8080/"
        },
        "id": "kM3L-2e_KSeW",
        "outputId": "9327f4ea-fa8d-4966-af2d-afae3285e413"
      },
      "execution_count": null,
      "outputs": [
        {
          "output_type": "stream",
          "name": "stdout",
          "text": [
            "123456789\n"
          ]
        }
      ]
    },
    {
      "cell_type": "code",
      "source": [
        "# Inteiro\n",
        "a = 123\n",
        "b = 456\n",
        "c = 789\n",
        "print(a+b+c)"
      ],
      "metadata": {
        "colab": {
          "base_uri": "https://localhost:8080/"
        },
        "id": "oYCqhHYpLJzr",
        "outputId": "fb55333c-524d-4ac5-e526-1d0b95641c0e"
      },
      "execution_count": null,
      "outputs": [
        {
          "output_type": "stream",
          "name": "stdout",
          "text": [
            "1368\n"
          ]
        }
      ]
    },
    {
      "cell_type": "code",
      "source": [
        "a = int(input('a:') )\n",
        "b = int(input('b:') )\n",
        "print(a+b)"
      ],
      "metadata": {
        "colab": {
          "base_uri": "https://localhost:8080/"
        },
        "id": "SgGsdhMTLT71",
        "outputId": "eddb1c00-fb56-43ec-ec72-6b11156f9c4d"
      },
      "execution_count": null,
      "outputs": [
        {
          "output_type": "stream",
          "name": "stdout",
          "text": [
            "a:10\n",
            "b:23\n",
            "33\n"
          ]
        }
      ]
    },
    {
      "cell_type": "code",
      "source": [
        "a = input('a:')\n",
        "b = input('b:')\n",
        "print(a+b)"
      ],
      "metadata": {
        "colab": {
          "base_uri": "https://localhost:8080/"
        },
        "id": "7wiVL-h3LtPG",
        "outputId": "8c68379f-4216-4280-d9f8-7483e919c4b1"
      },
      "execution_count": null,
      "outputs": [
        {
          "output_type": "stream",
          "name": "stdout",
          "text": [
            "a:10\n",
            "b:23\n",
            "1023\n"
          ]
        }
      ]
    },
    {
      "cell_type": "code",
      "source": [
        "# Float (Ponto flutuante, como sao representados na memoria do computador)\n",
        "a = float(input('a:') )\n",
        "b = float(input('b:') )\n",
        "print(a+b)"
      ],
      "metadata": {
        "colab": {
          "base_uri": "https://localhost:8080/"
        },
        "id": "14afjmJFL4Gw",
        "outputId": "b9d25003-5cfc-4262-f8db-c9ee00c3c50c"
      },
      "execution_count": null,
      "outputs": [
        {
          "output_type": "stream",
          "name": "stdout",
          "text": [
            "a:2.3\n",
            "b:3.7\n",
            "6.0\n"
          ]
        }
      ]
    },
    {
      "cell_type": "code",
      "source": [
        "# Print de várias variáveis\n",
        "nome = 'Adriana'\n",
        "idade = 41\n",
        "altura = 1.72\n",
        "print('Olá! %s tem %d anos e %.2f metros de altura.' %(nome,idade,altura))"
      ],
      "metadata": {
        "colab": {
          "base_uri": "https://localhost:8080/"
        },
        "id": "oZrH85LRMOB6",
        "outputId": "62dcf4dc-573a-4b9e-d8be-93929c33e60b"
      },
      "execution_count": null,
      "outputs": [
        {
          "output_type": "stream",
          "name": "stdout",
          "text": [
            "Olá! Adriana tem 41 anos e 1.72 metros de altura.\n"
          ]
        }
      ]
    },
    {
      "cell_type": "markdown",
      "source": [
        "**EXERCÍCIOS**"
      ],
      "metadata": {
        "id": "SDScnaDONRCl"
      }
    },
    {
      "cell_type": "code",
      "source": [
        "# EX 1\n",
        "nome = input('Nome: ')\n",
        "idade = int(input('Idade: '))\n",
        "altura = float(input('Altura: '))\n",
        "print('Olá! %s tem %d anos e %.2f metros de altura.' %(nome,idade,altura))"
      ],
      "metadata": {
        "colab": {
          "base_uri": "https://localhost:8080/"
        },
        "id": "2zWf03YMNU9-",
        "outputId": "f36ae85f-92ee-4d06-a69f-88ce79af8e7e"
      },
      "execution_count": null,
      "outputs": [
        {
          "output_type": "stream",
          "name": "stdout",
          "text": [
            "Nome: Adriana\n",
            "Idade: 41\n",
            "Altura: 1.72\n",
            "Olá! Adriana tem 41 anos e 1.72 metros de altura.\n"
          ]
        }
      ]
    },
    {
      "cell_type": "code",
      "source": [
        "# EX 2\n",
        "peso = int(input('Peso em Kg:'))\n",
        "altura = float(input('Altura:'))\n",
        "imc = peso/altura**2\n",
        "print('IMC:', imc)\n",
        "print('IMC: %.2f' % imc)"
      ],
      "metadata": {
        "colab": {
          "base_uri": "https://localhost:8080/"
        },
        "id": "Acr4bq2mOCVo",
        "outputId": "f3d6f2c6-05e7-4168-eb8a-4785fb7b569c"
      },
      "execution_count": null,
      "outputs": [
        {
          "output_type": "stream",
          "name": "stdout",
          "text": [
            "Peso em Kg:60\n",
            "Altura:1.72\n",
            "IMC: 20.281233098972418\n",
            "IMC: 20.28\n"
          ]
        }
      ]
    },
    {
      "cell_type": "code",
      "source": [
        "# EX 3\n",
        "a = float(input('Aceleracao: '))\n",
        "t = float(input('Tempo: '))\n",
        "v0 = float(input('Velocidade Inicial: '))\n",
        "s0 = 0\n",
        "\n",
        "s =  s0 + v0*t + (a*(t**2))/2\n",
        "print('Deslocamento: ', s)"
      ],
      "metadata": {
        "colab": {
          "base_uri": "https://localhost:8080/"
        },
        "id": "zlmkW5j6PJbd",
        "outputId": "fc0d53e0-3d99-4dd3-f72e-20740bd25c1f"
      },
      "execution_count": null,
      "outputs": [
        {
          "output_type": "stream",
          "name": "stdout",
          "text": [
            "Aceleracao: 10\n",
            "Tempo: 5\n",
            "Velocidade Inicial: 0\n",
            "Deslocamento:  125.0\n"
          ]
        }
      ]
    },
    {
      "cell_type": "code",
      "source": [
        "# EX 4\n",
        "b = float(input('Base menor: '))\n",
        "B = float(input('Base maior: '))\n",
        "h = float(input('Altura: '))\n",
        "A = (B + b)/2\n",
        "print('Area %.2f' % A)"
      ],
      "metadata": {
        "colab": {
          "base_uri": "https://localhost:8080/"
        },
        "id": "syfOu9deQ0LQ",
        "outputId": "7a3802e0-40ee-4407-bd8c-58ef4e4be443"
      },
      "execution_count": null,
      "outputs": [
        {
          "output_type": "stream",
          "name": "stdout",
          "text": [
            "Base menor: 5\n",
            "Base maior: 10\n",
            "Altura: 4\n",
            "Area 7.50\n"
          ]
        }
      ]
    },
    {
      "cell_type": "code",
      "source": [
        "# EX 5\n",
        "x = float(input('x: '))\n",
        "y = float(input('y: '))\n",
        "xx = x\n",
        "yy = y\n",
        "x = y\n",
        "y = xx\n",
        "print('x: ', xx, '(antes)', x, '(depois)')\n",
        "print('y: ', yy, '(antes)', y, '(depois)')"
      ],
      "metadata": {
        "colab": {
          "base_uri": "https://localhost:8080/"
        },
        "id": "EoW5N-nNR6S6",
        "outputId": "e43e8de8-bd4e-4311-91ac-88affaed649d"
      },
      "execution_count": null,
      "outputs": [
        {
          "output_type": "stream",
          "name": "stdout",
          "text": [
            "x: 5\n",
            "y: 10\n",
            "x:  5.0 (antes) 10.0 (depois)\n",
            "y:  10.0 (antes) 5.0 (depois)\n"
          ]
        }
      ]
    },
    {
      "cell_type": "markdown",
      "source": [
        "*VARIAVEIS BOOLEANAS*"
      ],
      "metadata": {
        "id": "laTbDeSGT454"
      }
    },
    {
      "cell_type": "code",
      "source": [
        "n1 = float(input('N1: '))\n",
        "n2 = float(input('N2: '))\n",
        "\n",
        "print(n1 > n2)\n",
        "print(n1 < n2)\n",
        "print(n1 == n2)\n",
        "print(n1 >= n2)\n",
        "print(n1 <= n2)"
      ],
      "metadata": {
        "colab": {
          "base_uri": "https://localhost:8080/"
        },
        "id": "4wcrdTeST9di",
        "outputId": "37e19b30-8fde-4f9d-db79-03b9118e345d"
      },
      "execution_count": null,
      "outputs": [
        {
          "output_type": "stream",
          "name": "stdout",
          "text": [
            "N1: 5\n",
            "N2: 8\n",
            "False\n",
            "True\n",
            "False\n",
            "False\n",
            "True\n"
          ]
        }
      ]
    },
    {
      "cell_type": "code",
      "source": [
        "aux = n1 == n2\n",
        "print(aux)"
      ],
      "metadata": {
        "colab": {
          "base_uri": "https://localhost:8080/"
        },
        "id": "m1EkOT8nZuzY",
        "outputId": "aab98de6-822d-4721-e34d-1484f11d3871"
      },
      "execution_count": null,
      "outputs": [
        {
          "output_type": "stream",
          "name": "stdout",
          "text": [
            "False\n"
          ]
        }
      ]
    },
    {
      "cell_type": "markdown",
      "source": [
        "*EXPRESSÕES COMPOSTAS*"
      ],
      "metadata": {
        "id": "X1Lk73_OZ6aR"
      }
    },
    {
      "cell_type": "code",
      "source": [
        "a = True\n",
        "b = False\n",
        "print(not a)\n",
        "print(not b)\n",
        "print(a and b)\n",
        "print(a or b)\n",
        "print(a and not b)"
      ],
      "metadata": {
        "colab": {
          "base_uri": "https://localhost:8080/"
        },
        "id": "31OpwORWZ5oP",
        "outputId": "4049d43f-2389-49f9-e26b-aca74d0aa0db"
      },
      "execution_count": null,
      "outputs": [
        {
          "output_type": "stream",
          "name": "stdout",
          "text": [
            "False\n",
            "True\n",
            "False\n",
            "True\n",
            "True\n"
          ]
        }
      ]
    },
    {
      "cell_type": "markdown",
      "source": [
        "**AULA 2 - IF-ELSE**"
      ],
      "metadata": {
        "id": "h7poJG3Qbmsa"
      }
    },
    {
      "cell_type": "code",
      "source": [
        "v1 = int(input())\n",
        "v2 = int(input())\n",
        "v3 = int(input())"
      ],
      "metadata": {
        "colab": {
          "base_uri": "https://localhost:8080/"
        },
        "id": "HeW7mGgVcA6z",
        "outputId": "cff668d2-4f1e-4e33-bfa5-0d32460f096b"
      },
      "execution_count": null,
      "outputs": [
        {
          "name": "stdout",
          "output_type": "stream",
          "text": [
            "10\n",
            "5\n",
            "20\n"
          ]
        }
      ]
    },
    {
      "cell_type": "code",
      "source": [
        "if v1 > v2:\n",
        "  print(v1)\n",
        "else:\n",
        "  print(v2)"
      ],
      "metadata": {
        "colab": {
          "base_uri": "https://localhost:8080/"
        },
        "id": "IVOTtS2YbpoH",
        "outputId": "55f890d9-c6f4-49fc-d087-6adef5c26ff1"
      },
      "execution_count": null,
      "outputs": [
        {
          "output_type": "stream",
          "name": "stdout",
          "text": [
            "10\n"
          ]
        }
      ]
    },
    {
      "cell_type": "code",
      "source": [
        "if v1 > v2 and v1 > v3:\n",
        "  print(v1)\n",
        "elif v2 > v3:\n",
        "  print(v2)\n",
        "else:\n",
        "  print(v3)"
      ],
      "metadata": {
        "colab": {
          "base_uri": "https://localhost:8080/"
        },
        "id": "6TgyVvvAdWnW",
        "outputId": "c6c3afa4-d6a8-44d2-9d60-5033c2b2c261"
      },
      "execution_count": null,
      "outputs": [
        {
          "output_type": "stream",
          "name": "stdout",
          "text": [
            "20\n"
          ]
        }
      ]
    },
    {
      "cell_type": "markdown",
      "source": [
        "**EXERCÍCIOS**"
      ],
      "metadata": {
        "id": "aCY7EREzeRXR"
      }
    },
    {
      "cell_type": "code",
      "source": [
        "# EX 1\n",
        "senha = 'abc1234'\n",
        "sen = input('Digite a senha: ')\n",
        "if sen == senha:\n",
        "  print('ACESSO PERMITIDO')\n",
        "else:\n",
        "  print('ACESSO NEGADO')\n"
      ],
      "metadata": {
        "colab": {
          "base_uri": "https://localhost:8080/"
        },
        "id": "vgh1wrj4eThI",
        "outputId": "c314d68a-8569-452e-a393-37eaf96ca1eb"
      },
      "execution_count": null,
      "outputs": [
        {
          "output_type": "stream",
          "name": "stdout",
          "text": [
            "Digite a senha: 123\n",
            "ACESSO NEGADO\n"
          ]
        }
      ]
    },
    {
      "cell_type": "code",
      "source": [
        "# EX 2\n",
        "timeA = input('Digite o nome do time A: ')\n",
        "golsA = input('Digite a quantidade de gols do time A: ')\n",
        "timeB = input('Digite o nome do time B: ')\n",
        "golsB = input('Digite a quantidade de gols do time B: ')\n",
        "\n",
        "if golsA == golsB:\n",
        "  print('Empate!')\n",
        "elif golsA > golsB:\n",
        "  print('O time %s ganhou. Ele fez %s gols!' % (timeA,golsA))\n",
        "else:\n",
        "  print('O time %s ganhou. Ele fez %s gols!' % (timeB,golsB))"
      ],
      "metadata": {
        "colab": {
          "base_uri": "https://localhost:8080/"
        },
        "id": "3pHg_MBUgeX3",
        "outputId": "0599a5ff-6b58-4baf-a6cf-a05f3d1e5995"
      },
      "execution_count": null,
      "outputs": [
        {
          "output_type": "stream",
          "name": "stdout",
          "text": [
            "Digite o nome do time A: AA\n",
            "Digite a quantidade de gols do time A: 3\n",
            "Digite o nome do time B: BB\n",
            "Digite a quantidade de gols do time B: 4\n",
            "O time BB ganhou. Ele fez 4 gols!\n"
          ]
        }
      ]
    },
    {
      "cell_type": "code",
      "source": [
        "# EX 3\n",
        "a = float(input('a: '))\n",
        "b = float(input('b: '))\n",
        "c = float(input('c: '))\n",
        "\n",
        "delta = b**2 - 4*a*c\n",
        "x1 = (-(b) + delta**(1/2))/(2*a)\n",
        "x2 = (-(b) - delta**(1/2))/(2*a)\n",
        "\n",
        "if delta < 0:\n",
        "  print('A equação não possui raiz real!')\n",
        "elif x1 == x2:\n",
        "  print('A equação possui apenas uma raiz: %.2f e %.2f' % (x1,x2))\n",
        "else:\n",
        "  print('As raizes da equação são: %.2f e %.2f' % (x1,x2))\n"
      ],
      "metadata": {
        "colab": {
          "base_uri": "https://localhost:8080/"
        },
        "id": "gMO8_iX3iONP",
        "outputId": "f0d67775-d251-4e40-fdb8-894b2e20200d"
      },
      "execution_count": null,
      "outputs": [
        {
          "output_type": "stream",
          "name": "stdout",
          "text": [
            "a: 1\n",
            "b: -2\n",
            "c: 4\n",
            "A equação não possui raiz real!\n"
          ]
        }
      ]
    },
    {
      "cell_type": "code",
      "source": [
        "# EX 4\n",
        "d_hoje = 5\n",
        "m_hoje = 7\n",
        "a_hoje = 2022\n",
        "dia = int(input('Digite o dia de nascimento: ')) \n",
        "mes = int(input('Digite o mes de nascimento: ')) \n",
        "ano = int(input('Digite o ano de nascimento: ')) \n",
        "\n",
        "if ano == a_hoje:\n",
        "  idade = 0\n",
        "else:\n",
        "  idade = a_hoje - ano\n",
        "  if m_hoje < mes or (m_hoje == mes and d_hoje < dia): \n",
        "    idade = idade - 1 \n",
        "print ('A idade é:', idade)"
      ],
      "metadata": {
        "colab": {
          "base_uri": "https://localhost:8080/"
        },
        "id": "zxlHbx8YktKH",
        "outputId": "8ef84d6a-b8f7-4ce5-edf6-121bad8c7ade"
      },
      "execution_count": null,
      "outputs": [
        {
          "output_type": "stream",
          "name": "stdout",
          "text": [
            "Digite o dia de nascimento: 6\n",
            "Digite o mes de nascimento: 7\n",
            "Digite o ano de nascimento: 2015\n",
            "A idade é: 6\n"
          ]
        }
      ]
    },
    {
      "cell_type": "code",
      "source": [
        "# EX 5\n",
        "qtd_macas = int(input('Digite a quantidade de maças: '))\n",
        "qtd_bananas = int(input('Digite a quantidade de bananas: '))\n",
        "\n",
        "if qtd_macas < 12:\n",
        "  vlr_macas = qtd_macas * 1.50\n",
        "else:\n",
        "  vlr_macas = qtd_macas * 1.20\n",
        "\n",
        "total = vlr_macas + qtd_bananas * 0.8\n",
        "if total > 10:\n",
        "  total_pg = total * 0.9\n",
        "else:\n",
        "  total_pg = total\n",
        "\n",
        "print('O valor a ser pago será: %.2f' % total_pg)"
      ],
      "metadata": {
        "colab": {
          "base_uri": "https://localhost:8080/"
        },
        "id": "pX9ISnJEnXxP",
        "outputId": "589f045d-e622-419c-e2fc-3f8b51e4a986"
      },
      "execution_count": null,
      "outputs": [
        {
          "output_type": "stream",
          "name": "stdout",
          "text": [
            "Digite a quantidade de maças: 11\n",
            "Digite a quantidade de bananas: 5\n",
            "O valor a ser pago será: 18.45\n"
          ]
        }
      ]
    },
    {
      "cell_type": "code",
      "source": [
        "# EX 6\n",
        "a1 = float(input('a1: '))\n",
        "a2 = float(input('a2: '))\n",
        "a3 = float(input('a3: '))\n",
        "\n",
        "if not a1 + a2 + a3 == 180:\n",
        "  print('Não é um triângulo!')\n",
        "elif (a1 < 90) and (a2 < 90) and (a3 < 90):\n",
        "  print('É um triângulo acutângulo!')\n",
        "elif (a1 == 90) or (a2 == 90) or (a3 == 90):\n",
        "  print('É um triângulo retângulo!')\n",
        "else:\n",
        "  print('É um triangulo obtusângulo')\n",
        "\n",
        "\n",
        "\n"
      ],
      "metadata": {
        "colab": {
          "base_uri": "https://localhost:8080/"
        },
        "id": "wxeEBesEqQhW",
        "outputId": "03369e27-4855-42d0-f282-0708107ac605"
      },
      "execution_count": null,
      "outputs": [
        {
          "output_type": "stream",
          "name": "stdout",
          "text": [
            "a1: 200\n",
            "a2: 100\n",
            "a3: 10\n",
            "Não é triângulo!\n"
          ]
        }
      ]
    },
    {
      "cell_type": "markdown",
      "source": [
        "**AULA 3 - ESTRUTURAS DE REPETIÇÃO**"
      ],
      "metadata": {
        "id": "DLZftCZHuCS8"
      }
    },
    {
      "cell_type": "code",
      "source": [
        "N = int(input('N: '))\n",
        "for i in range(N):\n",
        "  print(i)"
      ],
      "metadata": {
        "colab": {
          "base_uri": "https://localhost:8080/"
        },
        "id": "pGu9J3IHuGXx",
        "outputId": "f0706312-47dc-4eeb-fc26-8030fdb5cd14"
      },
      "execution_count": null,
      "outputs": [
        {
          "output_type": "stream",
          "name": "stdout",
          "text": [
            "N: 5\n",
            "0\n",
            "1\n",
            "2\n",
            "3\n",
            "4\n"
          ]
        }
      ]
    },
    {
      "cell_type": "code",
      "source": [
        "a = int(input('a: '))\n",
        "b = int(input('b: '))\n",
        "for i in range(a,b,1):\n",
        "  print(i)\n",
        "\n",
        "for i in range(a,b,2):\n",
        "  print(i)"
      ],
      "metadata": {
        "colab": {
          "base_uri": "https://localhost:8080/"
        },
        "id": "5I9U1Bquuijt",
        "outputId": "e1800e2d-251e-49cf-cd24-cdf8d3f291f5"
      },
      "execution_count": null,
      "outputs": [
        {
          "output_type": "stream",
          "name": "stdout",
          "text": [
            "a: 2\n",
            "b: 10\n",
            "2\n",
            "3\n",
            "4\n",
            "5\n",
            "6\n",
            "7\n",
            "8\n",
            "9\n",
            "2\n",
            "4\n",
            "6\n",
            "8\n"
          ]
        }
      ]
    },
    {
      "cell_type": "code",
      "source": [
        "soma = 0\n",
        "for i in range(100,201,2):\n",
        "  soma = soma + i\n",
        "print(soma)"
      ],
      "metadata": {
        "colab": {
          "base_uri": "https://localhost:8080/"
        },
        "id": "g4KvK_ZcvRNM",
        "outputId": "ea86ba53-eb51-4622-afb4-ea092bc42b9f"
      },
      "execution_count": null,
      "outputs": [
        {
          "output_type": "stream",
          "name": "stdout",
          "text": [
            "7650\n"
          ]
        }
      ]
    },
    {
      "cell_type": "code",
      "source": [
        "soma = 0\n",
        "for i in range(1,100,2):\n",
        "  soma = soma + i\n",
        "print(soma)\n"
      ],
      "metadata": {
        "colab": {
          "base_uri": "https://localhost:8080/"
        },
        "id": "pumclSTvvrwE",
        "outputId": "262f4711-4972-481e-e3eb-a2636352f4b2"
      },
      "execution_count": null,
      "outputs": [
        {
          "output_type": "stream",
          "name": "stdout",
          "text": [
            "2500\n"
          ]
        }
      ]
    },
    {
      "cell_type": "code",
      "source": [
        "soma = 0\n",
        "\n",
        "for i in range(100):\n",
        "  if not i%2 == 0:\n",
        "    soma = soma + i\n",
        "print(soma)"
      ],
      "metadata": {
        "colab": {
          "base_uri": "https://localhost:8080/"
        },
        "id": "H6nsVe-5wkfQ",
        "outputId": "78246c83-6967-4c21-9cef-b58d7dd3ff72"
      },
      "execution_count": null,
      "outputs": [
        {
          "output_type": "stream",
          "name": "stdout",
          "text": [
            "2500\n"
          ]
        }
      ]
    },
    {
      "cell_type": "code",
      "source": [
        "N = int(input('Digite o valor de N:'))\n",
        "\n",
        "s = 0\n",
        "for i in range(N):\n",
        "    valor = float(input('Digite um valor:'))\n",
        "    s = s + valor\n",
        "media = s / N\n",
        "print('Média aritmética:', media)"
      ],
      "metadata": {
        "colab": {
          "base_uri": "https://localhost:8080/"
        },
        "id": "0PTcKwljysDb",
        "outputId": "b610f031-eea1-4a4e-effc-7145505bb9f4"
      },
      "execution_count": null,
      "outputs": [
        {
          "output_type": "stream",
          "name": "stdout",
          "text": [
            "Digite o valor de N:3\n",
            "Digite um valor:2\n",
            "Digite um valor:10\n",
            "Digite um valor:5\n",
            "Média aritmética: 5.666666666666667\n"
          ]
        }
      ]
    },
    {
      "cell_type": "code",
      "source": [
        "num = int(input('Digite o número:'))\n",
        "\n",
        "eh_primo = True\n",
        "for i in range(2, num):\n",
        "    if num % i == 0:\n",
        "        eh_primo = False\n",
        "if not eh_primo:\n",
        "    print('Não é primo')\n",
        "else:\n",
        "    print('É primo')"
      ],
      "metadata": {
        "colab": {
          "base_uri": "https://localhost:8080/"
        },
        "id": "mMdwc5WJy9id",
        "outputId": "b7767770-7cc5-4c04-b73a-3a8863bb0e1e"
      },
      "execution_count": null,
      "outputs": [
        {
          "output_type": "stream",
          "name": "stdout",
          "text": [
            "Digite o número:5\n",
            "É primo\n"
          ]
        }
      ]
    },
    {
      "cell_type": "code",
      "source": [
        "# Exercício FOR-05\n",
        "# 1 1 2 3 5 8 ...\n",
        "\n",
        "N = int(input('Digite o número de termos:'))\n",
        "\n",
        "a = 1\n",
        "b = 1\n",
        "print('1')\n",
        "print('1')\n",
        "\n",
        "for i in range(2, N):\n",
        "    c = a + b\n",
        "    print(c)\n",
        "    a = b\n",
        "    b = c"
      ],
      "metadata": {
        "colab": {
          "base_uri": "https://localhost:8080/"
        },
        "id": "TYqu9MPdzh37",
        "outputId": "dd9bc1dd-4a68-4999-f58f-0a277bf9ecf3"
      },
      "execution_count": null,
      "outputs": [
        {
          "output_type": "stream",
          "name": "stdout",
          "text": [
            "Digite o número de termos:10\n",
            "1\n",
            "1\n",
            "2\n",
            "3\n",
            "5\n",
            "8\n",
            "13\n",
            "21\n",
            "34\n",
            "55\n"
          ]
        }
      ]
    },
    {
      "cell_type": "markdown",
      "source": [
        "**AULA 4 - WHILE**"
      ],
      "metadata": {
        "id": "R6cSkdYR817h"
      }
    },
    {
      "cell_type": "code",
      "source": [
        "# Exemplo: ler números inteiros do teclado até que o usuário digite 0\n",
        "num = int(input('Digite um inteiro:'))\n",
        "while num!=0:\n",
        "  print(num)\n",
        "  num = int(input('Digite um inteiro:'))"
      ],
      "metadata": {
        "colab": {
          "base_uri": "https://localhost:8080/"
        },
        "id": "iAsVz9cD85wR",
        "outputId": "970b3e51-d18f-469b-a37e-310830490525"
      },
      "execution_count": null,
      "outputs": [
        {
          "name": "stdout",
          "output_type": "stream",
          "text": [
            "Digite um inteiro:3\n",
            "3\n",
            "Digite um inteiro:2\n",
            "2\n",
            "Digite um inteiro:0\n"
          ]
        }
      ]
    },
    {
      "cell_type": "code",
      "source": [
        "# EX 1\n",
        "num = int(input('Digite um inteiro:'))\n",
        "soma = 0\n",
        "n = 0\n",
        "while num > 0:\n",
        "  soma = soma + num\n",
        "  n = n + 1\n",
        "  num = int(input('Digite um inteiro:'))\n",
        "\n",
        "print('A média é:', soma/n)"
      ],
      "metadata": {
        "colab": {
          "base_uri": "https://localhost:8080/"
        },
        "id": "wnqbTPm8_765",
        "outputId": "0e6c1363-d9be-4927-ee81-d098b61a3c20"
      },
      "execution_count": null,
      "outputs": [
        {
          "output_type": "stream",
          "name": "stdout",
          "text": [
            "Digite um inteiro:6\n",
            "Digite um inteiro:4\n",
            "Digite um inteiro:0\n",
            "A média é: 5.0\n"
          ]
        }
      ]
    },
    {
      "cell_type": "code",
      "source": [
        "# EX 2\n",
        "num = float(input('Digite um inteiro:'))\n",
        "soma_neg = 0\n",
        "soma_pos = 0\n",
        "while num!=0:\n",
        "  if num < 0:\n",
        "    soma_neg = soma_neg + num\n",
        "  else:\n",
        "    soma_pos = soma_pos + num\n",
        "  num = float(input('Digite um inteiro:'))\n",
        "\n",
        "print('Soma dos números negativos: ', soma_neg)\n",
        "print('Soma dos números positivos: ', soma_pos)"
      ],
      "metadata": {
        "colab": {
          "base_uri": "https://localhost:8080/"
        },
        "id": "tLIYZolcCT-J",
        "outputId": "e0624407-1a66-45f4-b0cf-8c2ac87e55c3"
      },
      "execution_count": null,
      "outputs": [
        {
          "output_type": "stream",
          "name": "stdout",
          "text": [
            "Digite um inteiro:2.2\n",
            "Digite um inteiro:-1\n",
            "Digite um inteiro:3\n",
            "Digite um inteiro:-4\n",
            "Digite um inteiro:0\n",
            "Soma dos números negativos:  -5.0\n",
            "Soma dos números positivos:  5.2\n"
          ]
        }
      ]
    },
    {
      "cell_type": "code",
      "source": [
        "# EX 3\n",
        "senha = '1234'\n",
        "sen = input('Digite a senha: ')\n",
        "n = 1\n",
        "while n < 5:\n",
        "  if sen == senha:\n",
        "    print('SENHA CORRETA')\n",
        "    n = 6\n",
        "  else:\n",
        "    print('SENHA INCORRETA')\n",
        "    sen = input('Digite a senha: ')\n",
        "    n = n + 1\n",
        "\n",
        "if n == 5:\n",
        "  print('SENHA BLOQUEADA')"
      ],
      "metadata": {
        "colab": {
          "base_uri": "https://localhost:8080/"
        },
        "id": "Svh5VsJzEtox",
        "outputId": "ad8c25fc-adf0-41d6-ec7d-56ec73ed6263"
      },
      "execution_count": null,
      "outputs": [
        {
          "output_type": "stream",
          "name": "stdout",
          "text": [
            "Digite a senha: 22\n",
            "SENHA INCORRETA\n",
            "Digite a senha: 1234\n",
            "SENHA CORRETA\n"
          ]
        }
      ]
    },
    {
      "cell_type": "code",
      "source": [
        "MAX_TENTATIVAS = 5\n",
        "\n",
        "digitado = input('Digite a senha: ')\n",
        "count = 1\n",
        "while digitado != '1234' and count < MAX_TENTATIVAS:\n",
        "    print('SENHA INCORRETA')\n",
        "    count = count + 1\n",
        "    digitado = input('Digite a senha: ')\n",
        "if count < MAX_TENTATIVAS:\n",
        "    print('SENHA CORRETA')\n",
        "else:\n",
        "    print('SENHA BLOQUEADA')"
      ],
      "metadata": {
        "colab": {
          "base_uri": "https://localhost:8080/"
        },
        "id": "H64rvQpgIY6N",
        "outputId": "f2b64f4b-a732-4a17-bdc7-0aa821d01c2a"
      },
      "execution_count": null,
      "outputs": [
        {
          "output_type": "stream",
          "name": "stdout",
          "text": [
            "Digite a senha: 23\n",
            "SENHA INCORRETA\n",
            "Digite a senha: 23\n",
            "SENHA INCORRETA\n",
            "Digite a senha: 1234\n",
            "SENHA CORRETA\n"
          ]
        }
      ]
    },
    {
      "cell_type": "code",
      "source": [
        "num = 100\n",
        "soma = 0\n",
        "while num <= 200:\n",
        "  soma = soma + num\n",
        "  num = num + 2\n",
        "\n",
        "print(soma)"
      ],
      "metadata": {
        "colab": {
          "base_uri": "https://localhost:8080/"
        },
        "id": "1v3GqdeKJlDR",
        "outputId": "63f75eed-c428-49fa-c7be-707d2a33cccd"
      },
      "execution_count": null,
      "outputs": [
        {
          "output_type": "stream",
          "name": "stdout",
          "text": [
            "7650\n"
          ]
        }
      ]
    },
    {
      "cell_type": "markdown",
      "source": [
        "*COMANDO BREAK*\n",
        "\n",
        "Quando usado em laço de repetição, o comando break causa uma interrupção imediata de um loop."
      ],
      "metadata": {
        "id": "hoI12FU_KRnC"
      }
    },
    {
      "cell_type": "code",
      "source": [
        "# Imprimir os números inteiros positivos de 0 a 10 (não incluso)\n",
        "cont = 0\n",
        "while True:\n",
        "  print(cont)\n",
        "  cont += 1\n",
        "  if cont == 10:\n",
        "    break"
      ],
      "metadata": {
        "colab": {
          "base_uri": "https://localhost:8080/"
        },
        "id": "7OcGEDFpKVYH",
        "outputId": "2fe27c1d-6f39-4a5d-e8d9-684d5398f10e"
      },
      "execution_count": null,
      "outputs": [
        {
          "output_type": "stream",
          "name": "stdout",
          "text": [
            "0\n",
            "1\n",
            "2\n",
            "3\n",
            "4\n",
            "5\n",
            "6\n",
            "7\n",
            "8\n",
            "9\n"
          ]
        }
      ]
    },
    {
      "cell_type": "markdown",
      "source": [
        "*COMANDO CONTINUE*\n",
        "\n",
        "Quando o comando continue é executado, o laço volta para o teste de condição do laço de repetição."
      ],
      "metadata": {
        "id": "6167qlanKd1b"
      }
    },
    {
      "cell_type": "code",
      "source": [
        "# Imprimir de 0 a 10, exceto os números 5 e 7\n",
        "for i in range(10):\n",
        "  if i==5 or i==7:\n",
        "    continue\n",
        "  print(i)"
      ],
      "metadata": {
        "colab": {
          "base_uri": "https://localhost:8080/"
        },
        "id": "nqo1uGCAKht5",
        "outputId": "737b7e85-5492-45aa-d964-2e89374e40ee"
      },
      "execution_count": null,
      "outputs": [
        {
          "output_type": "stream",
          "name": "stdout",
          "text": [
            "0\n",
            "1\n",
            "2\n",
            "3\n",
            "4\n",
            "6\n",
            "8\n",
            "9\n"
          ]
        }
      ]
    },
    {
      "cell_type": "markdown",
      "source": [
        "**AULA 4 - FUNÇÕES**"
      ],
      "metadata": {
        "id": "cPkXhpVW2PpT"
      }
    },
    {
      "cell_type": "code",
      "source": [
        "import math\n",
        "math.sin(45)"
      ],
      "metadata": {
        "colab": {
          "base_uri": "https://localhost:8080/"
        },
        "id": "kMI94HLL2S8S",
        "outputId": "f5b24600-7a14-4d3d-831d-162d603b3227"
      },
      "execution_count": null,
      "outputs": [
        {
          "output_type": "execute_result",
          "data": {
            "text/plain": [
              "0.8509035245341184"
            ]
          },
          "metadata": {},
          "execution_count": 30
        }
      ]
    },
    {
      "cell_type": "code",
      "source": [
        "from math import sin\n",
        "sin(45)"
      ],
      "metadata": {
        "colab": {
          "base_uri": "https://localhost:8080/"
        },
        "id": "PSgmnH2N2ww3",
        "outputId": "a60b5fbc-1df8-4c68-aad0-6a5ca77c49b8"
      },
      "execution_count": null,
      "outputs": [
        {
          "output_type": "execute_result",
          "data": {
            "text/plain": [
              "0.8509035245341184"
            ]
          },
          "metadata": {},
          "execution_count": 33
        }
      ]
    },
    {
      "cell_type": "code",
      "source": [
        "from math import *\n",
        "sin(pi/2)"
      ],
      "metadata": {
        "colab": {
          "base_uri": "https://localhost:8080/"
        },
        "id": "NuKy3ZAs25W7",
        "outputId": "c2e7ab9a-a0fa-4b1e-db3e-beb21453215a"
      },
      "execution_count": null,
      "outputs": [
        {
          "output_type": "execute_result",
          "data": {
            "text/plain": [
              "1.0"
            ]
          },
          "metadata": {},
          "execution_count": 34
        }
      ]
    },
    {
      "cell_type": "code",
      "source": [
        "math.pow(2,4)"
      ],
      "metadata": {
        "colab": {
          "base_uri": "https://localhost:8080/"
        },
        "id": "2Cq-mEtE2d8w",
        "outputId": "cad18ae9-7cff-4446-f06e-07c182970f0b"
      },
      "execution_count": null,
      "outputs": [
        {
          "output_type": "execute_result",
          "data": {
            "text/plain": [
              "16.0"
            ]
          },
          "metadata": {},
          "execution_count": 32
        }
      ]
    },
    {
      "cell_type": "code",
      "source": [
        "def printparts(p1,p2):\n",
        "  print(p1 + ' ' + p2)\n",
        "\n",
        "printparts('Hello','World')"
      ],
      "metadata": {
        "colab": {
          "base_uri": "https://localhost:8080/"
        },
        "id": "pTK9-yaR3tb3",
        "outputId": "9ed04dbc-3a59-499e-90e6-6145245d4105"
      },
      "execution_count": null,
      "outputs": [
        {
          "output_type": "stream",
          "name": "stdout",
          "text": [
            "Hello World\n"
          ]
        }
      ]
    },
    {
      "cell_type": "code",
      "source": [
        "def cattwice(p1,p2):\n",
        "  cat = p1 + p2\n",
        "\n",
        "n1 = 1000\n",
        "n2 = 2000\n",
        "cattwice(n1,n2)\n",
        "print(cat) # não vai funcionar pq a variável cat só existe dentro da funcao"
      ],
      "metadata": {
        "colab": {
          "base_uri": "https://localhost:8080/",
          "height": 200
        },
        "id": "niC4-YEN5QrO",
        "outputId": "419b9592-e6c5-4799-96b8-d74d94404455"
      },
      "execution_count": null,
      "outputs": [
        {
          "output_type": "error",
          "ename": "NameError",
          "evalue": "ignored",
          "traceback": [
            "\u001b[0;31m---------------------------------------------------------------------------\u001b[0m",
            "\u001b[0;31mNameError\u001b[0m                                 Traceback (most recent call last)",
            "\u001b[0;32m<ipython-input-36-50b5dbcdbb90>\u001b[0m in \u001b[0;36m<module>\u001b[0;34m()\u001b[0m\n\u001b[1;32m      5\u001b[0m \u001b[0mn2\u001b[0m \u001b[0;34m=\u001b[0m \u001b[0;36m2000\u001b[0m\u001b[0;34m\u001b[0m\u001b[0;34m\u001b[0m\u001b[0m\n\u001b[1;32m      6\u001b[0m \u001b[0mcattwice\u001b[0m\u001b[0;34m(\u001b[0m\u001b[0mn1\u001b[0m\u001b[0;34m,\u001b[0m\u001b[0mn2\u001b[0m\u001b[0;34m)\u001b[0m\u001b[0;34m\u001b[0m\u001b[0;34m\u001b[0m\u001b[0m\n\u001b[0;32m----> 7\u001b[0;31m \u001b[0mprint\u001b[0m\u001b[0;34m(\u001b[0m\u001b[0mcat\u001b[0m\u001b[0;34m)\u001b[0m\u001b[0;34m\u001b[0m\u001b[0;34m\u001b[0m\u001b[0m\n\u001b[0m",
            "\u001b[0;31mNameError\u001b[0m: name 'cat' is not defined"
          ]
        }
      ]
    },
    {
      "cell_type": "code",
      "source": [
        "from math import *\n",
        "\n",
        "def imprimeLogaritmo(x):\n",
        "  if x <= 0:\n",
        "    print('Somente números positivos')\n",
        "    return # Termina a execucao antes que ela alcance o fim\n",
        "  resultado = log(x)\n",
        "  print('O log de x é:', resultado)\n",
        "\n",
        "imprimeLogaritmo(0.45)"
      ],
      "metadata": {
        "colab": {
          "base_uri": "https://localhost:8080/"
        },
        "id": "6duGn-AR6Yq6",
        "outputId": "32e7986e-5a77-47f0-d4e4-5a280870e343"
      },
      "execution_count": null,
      "outputs": [
        {
          "output_type": "stream",
          "name": "stdout",
          "text": [
            "O log de x é: -0.7985076962177716\n"
          ]
        }
      ]
    },
    {
      "cell_type": "code",
      "source": [
        "def absolute_value(x):\n",
        "  if x < 0:\n",
        "    return -x\n",
        "  return x # Posso usar mais de um return, mas apenas um será executado\n",
        "\n",
        "print(absolute_value(-9))"
      ],
      "metadata": {
        "colab": {
          "base_uri": "https://localhost:8080/"
        },
        "id": "kR-qSVQk7RnV",
        "outputId": "9a1879b6-1354-4805-9bfc-6d1d20dab72c"
      },
      "execution_count": null,
      "outputs": [
        {
          "output_type": "stream",
          "name": "stdout",
          "text": [
            "9\n"
          ]
        }
      ]
    },
    {
      "cell_type": "markdown",
      "source": [
        "**AULA 5 - ITERACOES**"
      ],
      "metadata": {
        "id": "vOPPmoeyE-fm"
      }
    },
    {
      "cell_type": "code",
      "source": [
        "def contagemRegressiva(n):\n",
        "  while n >=0:\n",
        "    print(n)\n",
        "    n = n - 1 # Cuidado com os loops infinitos\n",
        "  print('Fogo!')\n",
        "\n",
        "contagemRegressiva(4)"
      ],
      "metadata": {
        "colab": {
          "base_uri": "https://localhost:8080/"
        },
        "id": "p3ORqjevFFMF",
        "outputId": "e67bbb47-cf17-4138-c486-aa0bf4a1322f"
      },
      "execution_count": 2,
      "outputs": [
        {
          "output_type": "stream",
          "name": "stdout",
          "text": [
            "4\n",
            "3\n",
            "2\n",
            "1\n",
            "0\n",
            "Fogo!\n"
          ]
        }
      ]
    },
    {
      "cell_type": "code",
      "source": [
        "for item in [20,21,22]:\n",
        "  dobro = item * 2\n",
        "  print(item, '*2 =', dobro)"
      ],
      "metadata": {
        "colab": {
          "base_uri": "https://localhost:8080/"
        },
        "id": "yYwHQhO-HwgC",
        "outputId": "8ba75bb6-7939-4341-9e4f-4d0e30ae46f4"
      },
      "execution_count": 3,
      "outputs": [
        {
          "output_type": "stream",
          "name": "stdout",
          "text": [
            "20 *2 = 40\n",
            "21 *2 = 42\n",
            "22 *2 = 44\n"
          ]
        }
      ]
    },
    {
      "cell_type": "code",
      "source": [
        "for item in range(20,23):\n",
        "  dobro = item * 2\n",
        "  print(item, '*2 =', dobro)"
      ],
      "metadata": {
        "id": "AmJMNZfY8lxl",
        "colab": {
          "base_uri": "https://localhost:8080/"
        },
        "outputId": "88580af2-5045-470c-c489-cb509bbd805d"
      },
      "execution_count": 4,
      "outputs": [
        {
          "output_type": "stream",
          "name": "stdout",
          "text": [
            "20 *2 = 40\n",
            "21 *2 = 42\n",
            "22 *2 = 44\n"
          ]
        }
      ]
    },
    {
      "cell_type": "code",
      "source": [
        "for item in range(20,20 + 6):\n",
        "  dobro = item * 2\n",
        "  print(item, '*2 =', dobro)"
      ],
      "metadata": {
        "colab": {
          "base_uri": "https://localhost:8080/"
        },
        "id": "spSjVVWBIY9N",
        "outputId": "c0febf34-6489-4fb6-9776-e29c0ca3564e"
      },
      "execution_count": 5,
      "outputs": [
        {
          "output_type": "stream",
          "name": "stdout",
          "text": [
            "20 *2 = 40\n",
            "21 *2 = 42\n",
            "22 *2 = 44\n",
            "23 *2 = 46\n",
            "24 *2 = 48\n",
            "25 *2 = 50\n"
          ]
        }
      ]
    },
    {
      "cell_type": "code",
      "source": [
        "for item in 'São Carlos':\n",
        "  print(item)"
      ],
      "metadata": {
        "colab": {
          "base_uri": "https://localhost:8080/"
        },
        "id": "RXG3JchJIdn2",
        "outputId": "d9e8fbea-8bb2-46f9-d965-1c1b95dbff89"
      },
      "execution_count": 6,
      "outputs": [
        {
          "output_type": "stream",
          "name": "stdout",
          "text": [
            "S\n",
            "ã\n",
            "o\n",
            " \n",
            "C\n",
            "a\n",
            "r\n",
            "l\n",
            "o\n",
            "s\n"
          ]
        }
      ]
    },
    {
      "cell_type": "code",
      "source": [
        "while True:\n",
        "  line = input('>')\n",
        "  if line == 'done':\n",
        "    break\n",
        "  print(line)\n",
        "print('Done!')"
      ],
      "metadata": {
        "colab": {
          "base_uri": "https://localhost:8080/"
        },
        "id": "NzP_TF3NIvUB",
        "outputId": "4d460b33-20b9-4634-da64-0a3761229139"
      },
      "execution_count": 7,
      "outputs": [
        {
          "output_type": "stream",
          "name": "stdout",
          "text": [
            ">lk\n",
            "lk\n",
            ">lk\n",
            "lk\n",
            ">done\n",
            "Done!\n"
          ]
        }
      ]
    }
  ]
}